{
 "cells": [
  {
   "cell_type": "code",
   "execution_count": 15,
   "metadata": {},
   "outputs": [],
   "source": [
    "# The Marko and Maximus Hackathon Solution\n",
    "# 2/20/25\n",
    "\n",
    "# Program flow:\n",
    "# Imports (software)\n",
    "# Imports (data)\n",
    "# Confirm data properly imported\n",
    "# Fix bad data values, if applicable\n",
    "# Load training and testing data\n",
    "# Fitting the model\n",
    "# Checking the model validation\n",
    "# Testing the model\n",
    "# Testing whether the model is accurate on a scatter graph\n",
    "# Permutations!\n",
    "# Partial dependence plots\n",
    "# The actual neural network training\n",
    "# Everything else\n",
    "# \n",
    "# \n",
    "# Note: Training data MUST be kept separately from testing data!"
   ]
  },
  {
   "cell_type": "code",
   "execution_count": 16,
   "metadata": {},
   "outputs": [],
   "source": [
    "# Import all requirements\n",
    "\n",
    "import numpy as np\n",
    "import pandas as pd\n",
    "import matplotlib.pyplot as plotter\n",
    "import seaborn as sb\n",
    "import tensorflow as tf\n",
    "import shap\n",
    "# import os\n",
    "\n",
    "# Add dotenv as dependency\n",
    "\n",
    "# from dotenv import load_dotenv\n",
    "\n",
    "# Pull in imports from SciKit Learn\n",
    "\n",
    "from sklearn.linear_model import LinearRegression\n",
    "from sklearn.model_selection import train_test_split\n",
    "from sklearn.inspection import permutation_importance\n",
    "from sklearn.metrics import root_mean_squared_error, make_scorer\n",
    "\n",
    "# copied over from apca.ipynb\n",
    "np.set_printoptions(suppress=True)"
   ]
  },
  {
   "cell_type": "code",
   "execution_count": 19,
   "metadata": {},
   "outputs": [],
   "source": [
    "# Import training data and testing data,\n",
    "# and confirm it was successfully imported\n",
    "# todo: get rid of the absolute filepaths and use relative filepaths... like yesterday\n",
    "# [this should be a .env file]\n",
    "# todo [2]: move the ipynb file out of the archive folder and in the main project directory?\n",
    "\n",
    "# test_data_path = os.getenv(r\"TEST_DATA_PATH\")\n",
    "# print(test_data_path)\n",
    "# train_data_path = os.getenv(r\"TRAIN_DATA_PATH\")\n",
    "# print(train_data_path)\n",
    "\n",
    "def import_data(type, uri, delim):\n",
    "    pass\n",
    "\n",
    "test_data = pd.read_csv(r\"C:\\Users\\vucinm\\Desktop\\college\\spring-2025\\psyc-4961\\MARP-Project\\test_data.csv\", delimiter=\";\")\n",
    "train_data = pd.read_csv(r\"C:\\Users\\vucinm\\Desktop\\college\\spring-2025\\psyc-4961\\MARP-Project\\train_data.csv\", delimiter=\";\")\n",
    "\n",
    "if test_data is None or train_data is None:\n",
    "    # basic integrity check (because a few times it didn't work)\n",
    "    print('Could not import test or training data : try again')\n",
    "\n",
    "# print('\\n----Showing test data...\\n')\n",
    "# print(test_data.head()) # integrity check\n",
    "# print('\\n---Showing training data---\\n')\n",
    "# print(train_data.head()) # integrity check (moved to next cell)\n",
    "\n",
    "# import_data(\"csv\", test_data_path, \";\")\n",
    "# import_data(\"csv\", train_data_path, \";\")"
   ]
  },
  {
   "cell_type": "code",
   "execution_count": 5,
   "metadata": {},
   "outputs": [],
   "source": [
    "# print(train_data.head())"
   ]
  },
  {
   "cell_type": "code",
   "execution_count": 6,
   "metadata": {},
   "outputs": [],
   "source": [
    "# print(test_data.head())"
   ]
  },
  {
   "cell_type": "code",
   "execution_count": 17,
   "metadata": {},
   "outputs": [],
   "source": [
    "# In this cell we would confirm that the data is properly imported.\n",
    "# So this is the bit where we would confirm that there are no missing or incorrect values like NaN\n",
    "# If there are, this is where we would fix them.\n",
    "\n",
    "def fix_bad_data_values():\n",
    "    pass"
   ]
  },
  {
   "cell_type": "code",
   "execution_count": 21,
   "metadata": {},
   "outputs": [],
   "source": [
    "# This is where we begin to load the data which will eventually be used to train the models.\n",
    "# We want a training variable and test variable for both the X and Y values.\n",
    "# (in keeping with formatting, X should be uppercase and y should be lowercase both times)\n",
    "\n",
    "def load_data():\n",
    "    pass"
   ]
  },
  {
   "cell_type": "code",
   "execution_count": 24,
   "metadata": {},
   "outputs": [],
   "source": [
    "# Fit the linear regression model to the baseline training _and_ testing data (so 2 different models)\n",
    "\n",
    "def fit_training_model():\n",
    "    pass\n",
    "\n",
    "def fit_testing_model():\n",
    "    pass\n",
    "\n",
    "lin_mod_train = LinearRegression()\n",
    "lin_mod_test = LinearRegression()\n",
    "# lin_mod_train.fit(X_train, y_train)\n",
    "# lin_mod_test.fit(X_test, y_test)"
   ]
  },
  {
   "cell_type": "code",
   "execution_count": null,
   "metadata": {},
   "outputs": [],
   "source": [
    "# To check that the code is working out properly here, \n",
    "# we do a simple visual test.\n",
    "\n",
    "def simple_vis_test():\n",
    "    pass\n",
    "\n",
    "# Refer to explainable_deep_learning_1.ipynb, cell 13."
   ]
  },
  {
   "cell_type": "code",
   "execution_count": 32,
   "metadata": {},
   "outputs": [],
   "source": [
    "# Next up is permutations and permutation importance - determine them.\n",
    "# One method per cell - clean code hygiene\n",
    "def find_permutations():\n",
    "    pass"
   ]
  },
  {
   "cell_type": "code",
   "execution_count": 33,
   "metadata": {},
   "outputs": [],
   "source": [
    "# Find permutation importance\n",
    "def find_permutation_importance():\n",
    "    pass"
   ]
  },
  {
   "cell_type": "code",
   "execution_count": 34,
   "metadata": {},
   "outputs": [],
   "source": [
    "# Partial dependence plot\n",
    "# This is just a wrapper for shap's partial dependence plot function\n",
    "def make_partial_dependence_plot():\n",
    "    pass"
   ]
  },
  {
   "cell_type": "code",
   "execution_count": 35,
   "metadata": {},
   "outputs": [],
   "source": [
    "# Now we actually have to train the neural network!\n",
    "# We break this process up into several cells.\n",
    "\n",
    "# First, we create the network.\n",
    "# And check it was actually created.\n",
    "\n",
    "def make_neural_network():\n",
    "    pass"
   ]
  },
  {
   "cell_type": "code",
   "execution_count": 36,
   "metadata": {},
   "outputs": [],
   "source": [
    "# Next, we train the network on the training data.\n",
    "\n",
    "def train_neutral_network():\n",
    "    pass"
   ]
  },
  {
   "cell_type": "code",
   "execution_count": 38,
   "metadata": {},
   "outputs": [],
   "source": [
    "# Next, we evaluate the network on the test set.\n",
    "def test_neural_network():\n",
    "    pass"
   ]
  },
  {
   "cell_type": "code",
   "execution_count": 39,
   "metadata": {},
   "outputs": [],
   "source": [
    "# Next, we compute the permutation importances \n",
    "# (both manually and with SciKit Learn)\n",
    "# This is where we break our own rules of \"one method per cell\"\n",
    "# because both methods are super similar.\n",
    "\n",
    "def compute_permutation_importances():\n",
    "    pass\n",
    "\n",
    "def autocompute_permutation_importances():\n",
    "    pass"
   ]
  },
  {
   "cell_type": "code",
   "execution_count": 40,
   "metadata": {},
   "outputs": [],
   "source": [
    "# Done"
   ]
  }
 ],
 "metadata": {
  "kernelspec": {
   "display_name": "behavioral-data-science",
   "language": "python",
   "name": "python3"
  },
  "language_info": {
   "codemirror_mode": {
    "name": "ipython",
    "version": 3
   },
   "file_extension": ".py",
   "mimetype": "text/x-python",
   "name": "python",
   "nbconvert_exporter": "python",
   "pygments_lexer": "ipython3",
   "version": "3.12.0"
  }
 },
 "nbformat": 4,
 "nbformat_minor": 2
}
