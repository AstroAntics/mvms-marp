{
 "cells": [
  {
   "cell_type": "code",
   "execution_count": 10,
   "metadata": {},
   "outputs": [],
   "source": [
    "# The Marko and Maximus Hackathon Solution\n",
    "# 2/20/25"
   ]
  },
  {
   "cell_type": "code",
   "execution_count": 11,
   "metadata": {},
   "outputs": [],
   "source": [
    "# Import all requirements\n",
    "\n",
    "import numpy as np\n",
    "import pandas as pd\n",
    "import matplotlib.pyplot as plotter\n",
    "import seaborn as sb\n",
    "import tensorflow as tf\n",
    "import shap\n",
    "\n",
    "# Pull in imports from SciKit Learn\n",
    "\n",
    "from sklearn.linear_model import LinearRegression\n",
    "from sklearn.model_selection import train_test_split\n",
    "from sklearn.inspection import permutation_importance\n",
    "from sklearn.metrics import root_mean_squared_error, make_scorer\n",
    "\n",
    "# copied over from apca.ipynb\n",
    "np.set_printoptions(suppress=True)"
   ]
  },
  {
   "cell_type": "code",
   "execution_count": null,
   "metadata": {},
   "outputs": [],
   "source": [
    "# Import training data and testing data,\n",
    "# and confirm it was successfully imported\n",
    "\n",
    "test_data = pd.read_csv(r\"C:\\Users\\vucinm\\Desktop\\college\\spring-2025\\psyc-4961\\MARP-Project\\test_data.csv\", delimiter=\";\")\n",
    "train_data = pd.read_csv(r\"C:\\Users\\vucinm\\Desktop\\college\\spring-2025\\psyc-4961\\MARP-Project\\train_data.csv\", delimiter=\";\")\n",
    "\n",
    "if test_data is None or train_data is None:\n",
    "    # basic integrity check\n",
    "    print('Could not import test or training data : try again')"
   ]
  }
 ],
 "metadata": {
  "kernelspec": {
   "display_name": "behavioral-data-science",
   "language": "python",
   "name": "python3"
  },
  "language_info": {
   "codemirror_mode": {
    "name": "ipython",
    "version": 3
   },
   "file_extension": ".py",
   "mimetype": "text/x-python",
   "name": "python",
   "nbconvert_exporter": "python",
   "pygments_lexer": "ipython3",
   "version": "3.12.0"
  }
 },
 "nbformat": 4,
 "nbformat_minor": 2
}
